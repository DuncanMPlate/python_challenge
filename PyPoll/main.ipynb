{
 "metadata": {
  "language_info": {
   "codemirror_mode": {
    "name": "ipython",
    "version": 3
   },
   "file_extension": ".py",
   "mimetype": "text/x-python",
   "name": "python",
   "nbconvert_exporter": "python",
   "pygments_lexer": "ipython3",
   "version": "3.8.5"
  },
  "orig_nbformat": 2,
  "kernelspec": {
   "name": "python385jvsc74a57bd0b0a9f33692871a1761bb188765a27ca2753be8760bb4938905d6f8b44f73aa95",
   "display_name": "Python 3.8.5 64-bit ('base': conda)"
  }
 },
 "nbformat": 4,
 "nbformat_minor": 2,
 "cells": [
  {
   "cell_type": "code",
   "execution_count": 40,
   "metadata": {},
   "outputs": [],
   "source": [
    "import csv\n",
    "import os\n",
    "import math\n",
    "\n",
    "file_path = os.path.join(os.getcwd(), 'Resources', 'election_data.csv')\n",
    "output_file = os.path.join(os.getcwd(), 'analysis', 'election_solutions.csv')"
   ]
  },
  {
   "cell_type": "code",
   "execution_count": 9,
   "metadata": {},
   "outputs": [],
   "source": [
    "with open(file_path, 'r', newline='') as csvfile:\n",
    "    csvreader= csv.reader(csvfile, delimiter=',')\n",
    "    total_votes = 0\n",
    "    #headerline = csvfile.readline()\n",
    "    for row in csvreader:\n",
    "        total_votes += len(list(csvreader))"
   ]
  },
  {
   "cell_type": "code",
   "execution_count": 10,
   "metadata": {},
   "outputs": [
    {
     "output_type": "execute_result",
     "data": {
      "text/plain": [
       "3521001"
      ]
     },
     "metadata": {},
     "execution_count": 10
    }
   ],
   "source": [
    "total_votes"
   ]
  },
  {
   "cell_type": "code",
   "execution_count": 21,
   "metadata": {},
   "outputs": [],
   "source": [
    "with open(file_path, 'r', newline='') as csvfile:\n",
    "    csvreader= csv.reader(csvfile, delimiter=',')\n",
    "    KHAAN = []\n",
    "    Correy = []\n",
    "    Li = []\n",
    "    OTooley = []\n",
    "    votes_any = []\n",
    "    for row in csvreader:\n",
    "        votes_any = str(row[2])\n",
    "        if votes_any == \"Khan\":\n",
    "            KHAAN.append(\"Khan\")\n",
    "        if votes_any == \"Li\":\n",
    "            Li.append(\"Li\")\n",
    "        if votes_any == \"Correy\":\n",
    "            Correy.append(\"Correy\")\n",
    "        if votes_any == \"O'Tooley\":\n",
    "            OTooley.append(\"O'Tooley\")\n",
    "   "
   ]
  },
  {
   "cell_type": "code",
   "execution_count": 30,
   "metadata": {},
   "outputs": [],
   "source": [
    "KHAAN_percent = \"{:.001%}\".format(len(KHAAN) / total_votes)\n",
    "Correy_percent = \"{:.001%}\".format(len(Correy) / total_votes)\n",
    "Li_percent = \"{:.001%}\".format(len(Li) / total_votes)\n",
    "OTooley_percent = \"{:.001%}\".format(len(OTooley) / total_votes)"
   ]
  },
  {
   "cell_type": "code",
   "execution_count": 42,
   "metadata": {},
   "outputs": [
    {
     "output_type": "stream",
     "name": "stdout",
     "text": [
      "Election Results\n63.0%\n20.0%\n14.0%\n3.0%\n"
     ]
    }
   ],
   "source": [
    "#print to terminal\n",
    "print('Election Results')\n",
    "print(KHAAN_percent) \n",
    "print(Correy_percent) \n",
    "print(Li_percent)\n",
    "print(OTooley_percent) "
   ]
  },
  {
   "cell_type": "code",
   "execution_count": 41,
   "metadata": {},
   "outputs": [],
   "source": [
    "#write to csv\n",
    "with open(output_file, 'w') as datafile:\n",
    "    writer = csv.writer(datafile)\n",
    "    writer.writerow(['Election Results'])\n",
    "    writer.writerow(['Total Votes: ', total_votes])\n",
    "    writer.writerow(['Khan: ', KHAAN_percent, len(KHAAN)])\n",
    "    writer.writerow(['Correy: ', Correy_percent, len(Correy)])\n",
    "    writer.writerow(['Li: ', Li_percent, len(Li)])\n",
    "    writer.writerow([\"O'Tooley: \", OTooley_percent, len(OTooley)])\n",
    "    writer.writerow(['Winner: KHAAAAAAAAAAN'])"
   ]
  },
  {
   "cell_type": "code",
   "execution_count": 28,
   "metadata": {},
   "outputs": [
    {
     "output_type": "execute_result",
     "data": {
      "text/plain": [
       "'63.0%'"
      ]
     },
     "metadata": {},
     "execution_count": 28
    }
   ],
   "source": [
    "KHAAN_percent"
   ]
  },
  {
   "cell_type": "code",
   "execution_count": 31,
   "metadata": {},
   "outputs": [
    {
     "output_type": "execute_result",
     "data": {
      "text/plain": [
       "'14.0%'"
      ]
     },
     "metadata": {},
     "execution_count": 31
    }
   ],
   "source": [
    "Li_percent"
   ]
  },
  {
   "cell_type": "code",
   "execution_count": 32,
   "metadata": {},
   "outputs": [
    {
     "output_type": "execute_result",
     "data": {
      "text/plain": [
       "'3.0%'"
      ]
     },
     "metadata": {},
     "execution_count": 32
    }
   ],
   "source": [
    "OTooley_percent"
   ]
  },
  {
   "cell_type": "code",
   "execution_count": 33,
   "metadata": {},
   "outputs": [
    {
     "output_type": "execute_result",
     "data": {
      "text/plain": [
       "'20.0%'"
      ]
     },
     "metadata": {},
     "execution_count": 33
    }
   ],
   "source": [
    "Correy_percent"
   ]
  },
  {
   "cell_type": "code",
   "execution_count": null,
   "metadata": {},
   "outputs": [],
   "source": []
  }
 ]
}