# To add a new cell, type '# %%'
# To add a new markdown cell, type '# %% [markdown]'
# %%
import csv
import os


# %%
file_path = os.path.join(os.getcwd(), 'Resources', 'budget_data.csv')
output_file = os.path.join(os.getcwd(), 'Resources', 'budget_solutions.csv')


# %%

#open file in read mode
with open(file_path, 'r', newline='') as csvfile:
   
    #initialise reader
    csvreader = csv.reader(csvfile, delimiter=',')
    #loop for total months
    dates = 0
    for row in csvfile:
        dates = len(list(csvreader))
        print(dates)
    #profit_loses
        
        


# %%
print(dates)


# %%
#Step 2
with open(file_path, 'r') as csvfile:
    csv_reader = csv.reader(csvfile, delimiter=",")
    profits_sum = 0
    header_line = csvfile.readline()
    for row in csv_reader:
        profits_sum += int(row[1])


# %%
print(profits_sum)


# %%
#step 3 calculate the average of the changes over the entire period
#calculate the net of the change from  month to month
# Jan + Feb = x, Feb + Mar = y...... avg of variables
with open(file_path, 'r') as csvfile:
    csv_reader = csv.reader(csvfile, delimiter=",")
    current_profit = 0
    previous_profit = 0
    next_dates = []
    next_profit = []
    header_line = csvfile.readline()
    average_profit = 0
    calculated_profit = 0
    for row in csv_reader:
        current_profit = int(row[1]) - previous_profit
        next_profit.append(current_profit)
        next_dates.append(str(row[0]))
        #current_profit = 0
        previous_profit = int(row[1])


# %%
#pulled_date = next_dates.index("Feb-2012")


# %%
min_profit = min(next_profit)
max_profit = max(next_profit)
#actually step 4 and 5 without dates


# %%
print(min_profit)
print(max_profit)


# %%
next_profit.pop(0)
average_profit = sum(next_profit)/len(next_profit)


# %%
print(average_profit)


# %%
#print results to a text file 
#print results to terminal
with open(output_file, 'w') as datafile:
    writer = csv.writer(datafile)
    writer.writerow(['Total Months: ', dates])
    writer.writerow(['Total: ', profits_sum])
    writer.writerow(['Average Change: ', average_profit])
    writer.writerow(['Greatest Increase in Profits: Feb-2012', max_profit, ])
    writer.writerow(['Greatest Decrease in Proftis: Sept-2013', min_profit, ])
    



# %%



