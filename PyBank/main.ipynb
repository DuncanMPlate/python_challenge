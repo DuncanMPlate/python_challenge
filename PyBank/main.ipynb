{
 "metadata": {
  "language_info": {
   "codemirror_mode": {
    "name": "ipython",
    "version": 3
   },
   "file_extension": ".py",
   "mimetype": "text/x-python",
   "name": "python",
   "nbconvert_exporter": "python",
   "pygments_lexer": "ipython3",
   "version": "3.8.5"
  },
  "orig_nbformat": 2,
  "kernelspec": {
   "name": "python385jvsc74a57bd0b0a9f33692871a1761bb188765a27ca2753be8760bb4938905d6f8b44f73aa95",
   "display_name": "Python 3.8.5 64-bit ('base': conda)"
  }
 },
 "nbformat": 4,
 "nbformat_minor": 2,
 "cells": [
  {
   "cell_type": "code",
   "execution_count": 4,
   "metadata": {},
   "outputs": [],
   "source": [
    "import csv\n",
    "import os\n",
    "import math"
   ]
  },
  {
   "cell_type": "code",
   "execution_count": 9,
   "metadata": {},
   "outputs": [],
   "source": [
    "file_path = os.path.join(os.getcwd(), 'Resources', 'budget_data.csv')"
   ]
  },
  {
   "cell_type": "code",
   "execution_count": 10,
   "metadata": {},
   "outputs": [
    {
     "output_type": "stream",
     "name": "stdout",
     "text": [
      "86\n"
     ]
    }
   ],
   "source": [
    "\n",
    "#open file in read mode\n",
    "with open(file_path, 'r', newline='') as csvfile:\n",
    "   \n",
    "    #initialise reader\n",
    "    csvreader = csv.reader(csvfile, delimiter=',')\n",
    "    #loop for total months\n",
    "    dates = 0\n",
    "    for row in csvfile:\n",
    "        dates = len(list(csvreader))\n",
    "        print(dates)\n",
    "    #profit_loses\n",
    "        \n",
    "        "
   ]
  },
  {
   "cell_type": "code",
   "execution_count": 11,
   "metadata": {},
   "outputs": [
    {
     "output_type": "stream",
     "name": "stdout",
     "text": [
      "86\n"
     ]
    }
   ],
   "source": [
    "print(dates)"
   ]
  },
  {
   "cell_type": "code",
   "execution_count": 12,
   "metadata": {},
   "outputs": [],
   "source": [
    "#Step 2\n",
    "with open(file_path, 'r') as csvfile:\n",
    "    csv_reader = csv.reader(csvfile, delimiter=\",\")\n",
    "    profits_sum = 0\n",
    "    header_line = csvfile.readline()\n",
    "    for row in csv_reader:\n",
    "        profits_sum += int(row[1])"
   ]
  },
  {
   "cell_type": "code",
   "execution_count": 13,
   "metadata": {},
   "outputs": [],
   "source": [
    "#step 3 calculate the average of the changes over the entire period\n",
    "#calculate the net of the change from  month to month\n",
    "# Jan + Feb = x, Feb + Mar = y...... avg of variables\n",
    "with open(file_path, 'r') as csvfile:\n",
    "    csv_reader = csv.reader(csvfile, delimiter=\",\")\n",
    "    current_profit = 0\n",
    "    previous_profit = 0\n",
    "    next_profit = []\n",
    "    header_line = csvfile.readline()\n",
    "    average_profit = 0\n",
    "    calculated_profit = 0\n",
    "    for row in csv_reader:\n",
    "        current_profit = int(row[1]) - previous_profit\n",
    "        next_profit.append(current_profit)\n",
    "        #current_profit = 0\n",
    "        previous_profit = int(row[1])"
   ]
  },
  {
   "cell_type": "code",
   "execution_count": 14,
   "metadata": {},
   "outputs": [],
   "source": [
    "next_profit.pop(0)\n",
    "average_profit = sum(next_profit)/len(next_profit)\n",
    "\n"
   ]
  },
  {
   "cell_type": "code",
   "execution_count": 16,
   "metadata": {},
   "outputs": [
    {
     "output_type": "execute_result",
     "data": {
      "text/plain": [
       "-2315.1176470588234"
      ]
     },
     "metadata": {},
     "execution_count": 16
    }
   ],
   "source": [
    "average_profit"
   ]
  },
  {
   "cell_type": "code",
   "execution_count": 15,
   "metadata": {},
   "outputs": [
    {
     "output_type": "error",
     "ename": "SyntaxError",
     "evalue": "unexpected EOF while parsing (<ipython-input-15-031c7b31a5a5>, line 4)",
     "traceback": [
      "\u001b[1;36m  File \u001b[1;32m\"<ipython-input-15-031c7b31a5a5>\"\u001b[1;36m, line \u001b[1;32m4\u001b[0m\n\u001b[1;33m    for row in csv_reader:\u001b[0m\n\u001b[1;37m                          ^\u001b[0m\n\u001b[1;31mSyntaxError\u001b[0m\u001b[1;31m:\u001b[0m unexpected EOF while parsing\n"
     ]
    }
   ],
   "source": [
    "#step 4 greatest increase in profits(date and amount over the entire period)\n",
    "#MAX Value row[1] pull value for row[0]\n",
    "max_profit = 0\n",
    "for row in csv_reader:\n"
   ]
  },
  {
   "cell_type": "code",
   "execution_count": null,
   "metadata": {},
   "outputs": [],
   "source": []
  }
 ]
}